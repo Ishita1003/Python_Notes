{
 "cells": [
  {
   "cell_type": "markdown",
   "id": "d9456f44",
   "metadata": {},
   "source": [
    "# Strings and Conditional statements"
   ]
  },
  {
   "cell_type": "code",
   "execution_count": 1,
   "id": "c0183dd2",
   "metadata": {},
   "outputs": [
    {
     "name": "stdout",
     "output_type": "stream",
     "text": [
      "apnacollege\n"
     ]
    }
   ],
   "source": [
    "#program to implement concatenation\n",
    "str1 = \"apna\"\n",
    "str2 = \"college\"\n",
    "print(str1+str2)"
   ]
  },
  {
   "cell_type": "code",
   "execution_count": 2,
   "id": "bebfe79e",
   "metadata": {},
   "outputs": [
    {
     "name": "stdout",
     "output_type": "stream",
     "text": [
      "19\n"
     ]
    }
   ],
   "source": [
    "#program to find length of a string\n",
    "str1 = \"ishita harish kadam\"\n",
    "length = len(str1)\n",
    "print(length)"
   ]
  },
  {
   "cell_type": "code",
   "execution_count": 3,
   "id": "9323ce24",
   "metadata": {},
   "outputs": [
    {
     "name": "stdout",
     "output_type": "stream",
     "text": [
      "shita \n",
      "Ishita Harish \n",
      "Ishita Harish Kadam\n"
     ]
    }
   ],
   "source": [
    "#slicing\n",
    "str = \"Ishita Harish Kadam\"\n",
    "print(str[1:7])\n",
    "print(str[:14])\n",
    "print(str[0:len(str)])"
   ]
  },
  {
   "cell_type": "code",
   "execution_count": 4,
   "id": "7f998843",
   "metadata": {},
   "outputs": [
    {
     "name": "stdout",
     "output_type": "stream",
     "text": [
      "enter your name:Ishita\n",
      "length of your name is 6\n"
     ]
    }
   ],
   "source": [
    "#WAP to input users name and print it\n",
    "name = input(\"enter your name:\")\n",
    "print(\"length of your name is\", len(name))"
   ]
  },
  {
   "cell_type": "code",
   "execution_count": 5,
   "id": "011220cc",
   "metadata": {},
   "outputs": [
    {
     "data": {
      "text/plain": [
       "3"
      ]
     },
     "execution_count": 5,
     "metadata": {},
     "output_type": "execute_result"
    }
   ],
   "source": [
    "#WAP TO FIND THE OCCURRENCE OF $ IN A STRING\n",
    "str = \"Hi $ you have been invited to $ at $\"\n",
    "str.count(\"$\")"
   ]
  },
  {
   "cell_type": "code",
   "execution_count": 6,
   "id": "f9813ae8",
   "metadata": {},
   "outputs": [
    {
     "name": "stdout",
     "output_type": "stream",
     "text": [
      "go\n"
     ]
    }
   ],
   "source": [
    "#conditional statements\n",
    "light = \"green\"\n",
    "if(light == \"red\"):\n",
    "    print(\"stop\")\n",
    "elif(light == \"green\"):\n",
    "    print(\"go\")\n",
    "elif(light==\"yellow\"):\n",
    "    print(\"look\")"
   ]
  },
  {
   "cell_type": "code",
   "execution_count": 7,
   "id": "a081bb2e",
   "metadata": {},
   "outputs": [
    {
     "name": "stdout",
     "output_type": "stream",
     "text": [
      "Grade : B\n"
     ]
    }
   ],
   "source": [
    "#conditional statements\n",
    "marks = 86\n",
    "if(marks >= 90):\n",
    "    print(\"Grade : A\")\n",
    "elif(marks < 90 and marks >= 80):\n",
    "    print(\"Grade : B\")\n",
    "elif(marks < 80 and marks >=70):\n",
    "    print(\"Grade : C\")\n",
    "elif(marks < 70):\n",
    "    print(\"Grade : D\")"
   ]
  },
  {
   "cell_type": "code",
   "execution_count": 8,
   "id": "b0d2ff3c",
   "metadata": {},
   "outputs": [
    {
     "name": "stdout",
     "output_type": "stream",
     "text": [
      "the number is even\n"
     ]
    }
   ],
   "source": [
    "#WAP to check if a number entered by the user is odd or even\n",
    "number = 24\n",
    "if(number % 2 ==0):\n",
    "    print(\"the number is even\")\n",
    "else:\n",
    "    print(\"the number is odd\")"
   ]
  },
  {
   "cell_type": "code",
   "execution_count": 9,
   "id": "e25b7725",
   "metadata": {},
   "outputs": [
    {
     "name": "stdout",
     "output_type": "stream",
     "text": [
      "Enter A :78\n",
      "Enter B :56\n",
      "Enter C :41\n",
      "A is greatest\n"
     ]
    }
   ],
   "source": [
    "#WAP to find the greatest of 3 numbers entered by the user\n",
    "A = int(input(\"Enter A :\"))\n",
    "B = int(input(\"Enter B :\")) \n",
    "C = int(input(\"Enter C :\"))\n",
    "if(A > B and A > C):\n",
    "    print(\"A is greatest\")\n",
    "elif(B>C):\n",
    "    print(\"B is greatest\")\n",
    "else:\n",
    "    print(\"C is greatest\")"
   ]
  },
  {
   "cell_type": "code",
   "execution_count": 10,
   "id": "30732db8",
   "metadata": {},
   "outputs": [
    {
     "name": "stdout",
     "output_type": "stream",
     "text": [
      "enter a number : 85\n",
      "A is not a multiple of 7\n"
     ]
    }
   ],
   "source": [
    "#WAP to check if a number is a multiple of 7 or not\n",
    "A = int(input(\"enter a number : \"))\n",
    "if(A % 7 == 0):\n",
    "    print(\"A is multiple of 7\")\n",
    "else:\n",
    "    print(\"A is not a multiple of 7\")"
   ]
  },
  {
   "cell_type": "markdown",
   "id": "e64789d2",
   "metadata": {},
   "source": [
    "# List and Tuple in Python"
   ]
  },
  {
   "cell_type": "code",
   "execution_count": 11,
   "id": "ebbc7740",
   "metadata": {},
   "outputs": [],
   "source": [
    "#A built-in data type that stores set of values\n",
    "#It can store elements of different types (integer, float, string, etc.)"
   ]
  },
  {
   "cell_type": "code",
   "execution_count": 12,
   "id": "9f0c03bd",
   "metadata": {},
   "outputs": [
    {
     "name": "stdout",
     "output_type": "stream",
     "text": [
      "Enter movie name: a \n",
      "Enter movie name: b\n",
      "Enter movie name: c\n",
      "['a ', 'b', 'c']\n"
     ]
    }
   ],
   "source": [
    "#WAP to ask the user to enter names of their 3 favorite movies and store them in a list\n",
    "movie1 = input(\"Enter movie name: \")\n",
    "movie2 = input(\"Enter movie name: \")\n",
    "movie3 = input(\"Enter movie name: \")\n",
    "\n",
    "list = [movie1, movie2, movie3]\n",
    "print(list)"
   ]
  },
  {
   "cell_type": "code",
   "execution_count": 13,
   "id": "b7148dff",
   "metadata": {},
   "outputs": [
    {
     "name": "stdout",
     "output_type": "stream",
     "text": [
      "palindrome\n"
     ]
    }
   ],
   "source": [
    "#WAP to check if a list contains a palindrome of elements \n",
    "list = [1,2,2,1]\n",
    "copy_list = list.copy()\n",
    "copy_list.reverse()\n",
    "\n",
    "if(copy_list == list):\n",
    "    print(\"palindrome\")\n",
    "else:\n",
    "    print(\"not a palindrome\")"
   ]
  },
  {
   "cell_type": "code",
   "execution_count": 14,
   "id": "f4ee9030",
   "metadata": {},
   "outputs": [
    {
     "name": "stdout",
     "output_type": "stream",
     "text": [
      "3\n",
      "['A', 'A', 'A', 'B', 'B', 'C', 'D']\n"
     ]
    }
   ],
   "source": [
    "#WAP to count the number of students with the \"A\" grade in the following tuple.\n",
    "tup = (\"C\",\"D\",\"A\",\"B\",\"B\",\"A\",\"A\")\n",
    "count_of_A = tup.count(\"A\")\n",
    "print(count_of_A)\n",
    "\n",
    "#store the above values in a list and store them from \"A\" TO \"D\"\n",
    "grade = [\"C\",\"D\",\"A\",\"B\",\"B\",\"A\",\"A\"]\n",
    "grade.sort()\n",
    "print(grade)"
   ]
  },
  {
   "cell_type": "markdown",
   "id": "a5b8a771",
   "metadata": {},
   "source": [
    "# Dictionary"
   ]
  },
  {
   "cell_type": "code",
   "execution_count": 15,
   "id": "4f1af30d",
   "metadata": {},
   "outputs": [
    {
     "name": "stdout",
     "output_type": "stream",
     "text": [
      "{'key': 'value', 'name': 'Ishita', 'subjects': ['python', 'java', 'DSA'], 'learning': 'coding', 'age': 22, 'is_adult': True, 'marks': 95}\n"
     ]
    }
   ],
   "source": [
    "#Dictionaries are used to store data values in key:value pairs\n",
    "#they are unordered, mutable(changable) and dont allow duplicate keys\n",
    "info ={\n",
    "    \"key\" : \"value\",\n",
    "    \"name\" : \"Ishita\",\n",
    "    \"subjects\" : [\"python\", \"java\", \"DSA\"],\n",
    "    \"learning\" : \"coding\",\n",
    "    \"age\" : 22,\n",
    "    \"is_adult\" : True,\n",
    "    \"marks\" : 95\n",
    "}\n",
    "print(info)"
   ]
  },
  {
   "cell_type": "code",
   "execution_count": 16,
   "id": "5d776a25",
   "metadata": {},
   "outputs": [
    {
     "name": "stdout",
     "output_type": "stream",
     "text": [
      "{'name': 'Ishita', 'subjects': {'Java': 95, 'Python': 90, 'DSA': 95}}\n"
     ]
    }
   ],
   "source": [
    "#nested dictionary\n",
    "student = {\n",
    "    \"name\" : \"Ishita\",\n",
    "    \"subjects\" : {\n",
    "        \"Java\" : 95,\n",
    "        \"Python\" : 90,\n",
    "        \"DSA\" : 95\n",
    "    }\n",
    "}\n",
    "print(student)"
   ]
  },
  {
   "cell_type": "code",
   "execution_count": 17,
   "id": "7feb9fff",
   "metadata": {},
   "outputs": [],
   "source": [
    "# Dictionary Methods\n",
    "\n",
    "#myDict.keys( ) #returns all keys\n",
    "\n",
    "#myDict.items( ) #returns all (key, val) pairs as tuples\n",
    "\n",
    "#myDict.update( newDict ) #inserts the specified items to the dictionary\n",
    "\n",
    "#myDict.values( ) #returns all values\n",
    "\n",
    "#myDict.get( “key““ ) #returns the key according to value\n"
   ]
  },
  {
   "cell_type": "code",
   "execution_count": 18,
   "id": "9f37c8da",
   "metadata": {},
   "outputs": [
    {
     "name": "stdout",
     "output_type": "stream",
     "text": [
      "dict_keys(['name', 'subjects'])\n",
      "dict_values(['Ishita', {'Java': 95, 'Python': 90, 'DSA': 95}])\n",
      "dict_items([('name', 'Ishita'), ('subjects', {'Java': 95, 'Python': 90, 'DSA': 95})])\n",
      "Ishita\n",
      "{'name': 'Ishita', 'subjects': {'Java': 95, 'Python': 90, 'DSA': 95}, 'city': 'pune'}\n"
     ]
    }
   ],
   "source": [
    "student = {\n",
    "    \"name\" : \"Ishita\",\n",
    "    \"subjects\" : {\n",
    "        \"Java\" : 95,\n",
    "        \"Python\" : 90,\n",
    "        \"DSA\" : 95\n",
    "    }\n",
    "}\n",
    "#print(student)\n",
    "print(student.keys())\n",
    "print(student.values())\n",
    "print(student.items())\n",
    "print(student.get(\"name\"))\n",
    "student.update({\"city\" : \"pune\"})\n",
    "print(student)"
   ]
  },
  {
   "cell_type": "markdown",
   "id": "3e2e9ae2",
   "metadata": {},
   "source": [
    "# SET"
   ]
  },
  {
   "cell_type": "code",
   "execution_count": 19,
   "id": "be3fcfa4",
   "metadata": {},
   "outputs": [],
   "source": [
    "#set is the collection of the unordered items\n",
    "#each element in the set must be unique and immutable\n",
    "#set can store -> boolean, int, float, string, tuple \n",
    "#but we cant store list and dictionary in set\n"
   ]
  },
  {
   "cell_type": "code",
   "execution_count": 20,
   "id": "aa8e0b33",
   "metadata": {},
   "outputs": [
    {
     "name": "stdout",
     "output_type": "stream",
     "text": [
      "{1, 2, 3, 4, 'hey'}\n",
      "<class 'set'>\n"
     ]
    }
   ],
   "source": [
    "collection = {1,2,3,4,\"hey\"}\n",
    "print(collection)\n",
    "print(type(collection))"
   ]
  },
  {
   "cell_type": "code",
   "execution_count": 21,
   "id": "ce16f895",
   "metadata": {},
   "outputs": [
    {
     "name": "stdout",
     "output_type": "stream",
     "text": [
      "{1, 2, 'hey'}\n"
     ]
    }
   ],
   "source": [
    "#if we repeat some values in set then it just ignores the repeated values and it prints it once\n",
    "collection = {1,2,2,2,2, \"hey\", \"hey\"}\n",
    "print(collection)"
   ]
  },
  {
   "cell_type": "code",
   "execution_count": 22,
   "id": "3796d189",
   "metadata": {},
   "outputs": [],
   "source": [
    "#Set methods\n",
    "\n",
    "#set.add(el) -> adds an element\n",
    "#set.remove(el) -> removes the element\n",
    "#set.clear(el) -> empties the set\n",
    "#set.pop(el) -> removes a random value\n"
   ]
  },
  {
   "cell_type": "code",
   "execution_count": 23,
   "id": "c9efbdfa",
   "metadata": {},
   "outputs": [
    {
     "name": "stdout",
     "output_type": "stream",
     "text": [
      "1\n",
      "{2, 4, (1, 2, 3)}\n"
     ]
    }
   ],
   "source": [
    "collection = set()\n",
    "collection.add(1)\n",
    "collection.add(1)\n",
    "collection.add(1)\n",
    "collection.add(2)\n",
    "collection.add(3)\n",
    "collection.add(4)\n",
    "collection.add((1,2,3))\n",
    "\n",
    "collection.remove(3)\n",
    "\n",
    "print(collection.pop())\n",
    "print(collection)"
   ]
  },
  {
   "cell_type": "code",
   "execution_count": 24,
   "id": "d63b8bc4",
   "metadata": {},
   "outputs": [],
   "source": [
    "#set methods\n",
    "\n",
    "#set.union(set2) -> combines both set values and returns new\n",
    "#set.intersection(set2) -> combines common values and returns new"
   ]
  },
  {
   "cell_type": "code",
   "execution_count": 25,
   "id": "12291b55",
   "metadata": {},
   "outputs": [
    {
     "name": "stdout",
     "output_type": "stream",
     "text": [
      "{1, 2, 3, 4}\n",
      "{2, 3}\n"
     ]
    }
   ],
   "source": [
    "set1 = {1,2,3}\n",
    "set2 = {2,3,4}\n",
    "\n",
    "print(set1.union(set2))\n",
    "print(set1.intersection(set2))"
   ]
  },
  {
   "cell_type": "code",
   "execution_count": 26,
   "id": "0761803d",
   "metadata": {},
   "outputs": [
    {
     "name": "stdout",
     "output_type": "stream",
     "text": [
      "{'cat': 'a small animal', 'table': ['a pice of furniture', 'list of facts and figures']}\n"
     ]
    }
   ],
   "source": [
    "#Store following word meanings in a python dictionary\n",
    "#table : \"a pice of furniture\", \"list of facts and figures\"\n",
    "#cat: \"a small animal\"\n",
    "\n",
    "dictionary = {\n",
    "    \"cat\" : \"a small animal\",\n",
    "    \"table\" : [\"a pice of furniture\", \"list of facts and figures\"]\n",
    "}\n",
    "print(dictionary)"
   ]
  },
  {
   "cell_type": "code",
   "execution_count": 27,
   "id": "7e6b7d5c",
   "metadata": {},
   "outputs": [
    {
     "name": "stdout",
     "output_type": "stream",
     "text": [
      "5\n"
     ]
    }
   ],
   "source": [
    "#you are given a list of subjects for students, assume one classroom is required for 1 subject.\n",
    "#how many classrooms are needed by all students.\n",
    "\n",
    "collection = {\"python\", \"c++\",\"python\",\"javascript\",\"java\",\"python\",\"java\",\"c++\",\"c\"}\n",
    "print(len(collection))\n"
   ]
  },
  {
   "cell_type": "code",
   "execution_count": 28,
   "id": "c006a791",
   "metadata": {},
   "outputs": [
    {
     "name": "stdout",
     "output_type": "stream",
     "text": [
      "enter phy marks:85\n",
      "enter maths marks:45\n",
      "enter chem marks:63\n",
      "{'phy': 85, 'math': 45, 'chem': 63}\n"
     ]
    }
   ],
   "source": [
    "#WAP to enter marks of 3 students from the user and store them in a dictionary.\n",
    "#start with an empty dictionaru and add one by one. use subject name as key and marks as value.\n",
    "\n",
    "marks = {}\n",
    "x = int(input(\"enter phy marks:\"))\n",
    "marks.update({\"phy\" : x})\n",
    "\n",
    "x = int(input(\"enter maths marks:\"))\n",
    "marks.update({\"math\" : x})\n",
    "\n",
    "x = int(input(\"enter chem marks:\"))\n",
    "marks.update({\"chem\" : x})\n",
    "\n",
    "print(marks)"
   ]
  },
  {
   "cell_type": "markdown",
   "id": "1266ea2f",
   "metadata": {},
   "source": [
    "# LOOPs in Python"
   ]
  },
  {
   "cell_type": "code",
   "execution_count": 29,
   "id": "6e92f25a",
   "metadata": {},
   "outputs": [
    {
     "name": "stdout",
     "output_type": "stream",
     "text": [
      "1\n",
      "2\n",
      "3\n",
      "4\n",
      "5\n",
      "6\n",
      "7\n",
      "8\n",
      "9\n",
      "10\n",
      "11\n",
      "12\n",
      "13\n",
      "14\n",
      "15\n",
      "16\n",
      "17\n",
      "18\n",
      "19\n",
      "20\n",
      "21\n",
      "22\n",
      "23\n",
      "24\n",
      "25\n",
      "26\n",
      "27\n",
      "28\n",
      "29\n",
      "30\n",
      "31\n",
      "32\n",
      "33\n",
      "34\n",
      "35\n",
      "36\n",
      "37\n",
      "38\n",
      "39\n",
      "40\n",
      "41\n",
      "42\n",
      "43\n",
      "44\n",
      "45\n",
      "46\n",
      "47\n",
      "48\n",
      "49\n",
      "50\n",
      "51\n",
      "52\n",
      "53\n",
      "54\n",
      "55\n",
      "56\n",
      "57\n",
      "58\n",
      "59\n",
      "60\n",
      "61\n",
      "62\n",
      "63\n",
      "64\n",
      "65\n",
      "66\n",
      "67\n",
      "68\n",
      "69\n",
      "70\n",
      "71\n",
      "72\n",
      "73\n",
      "74\n",
      "75\n",
      "76\n",
      "77\n",
      "78\n",
      "79\n",
      "80\n",
      "81\n",
      "82\n",
      "83\n",
      "84\n",
      "85\n",
      "86\n",
      "87\n",
      "88\n",
      "89\n",
      "90\n",
      "91\n",
      "92\n",
      "93\n",
      "94\n",
      "95\n",
      "96\n",
      "97\n",
      "98\n",
      "99\n",
      "100\n"
     ]
    }
   ],
   "source": [
    "#print numbers from 1 to 100\n",
    "\n",
    "i = 1\n",
    "while(i<=100):\n",
    "    print(i)\n",
    "    i+=1"
   ]
  },
  {
   "cell_type": "code",
   "execution_count": 30,
   "id": "ff5da545",
   "metadata": {},
   "outputs": [
    {
     "name": "stdout",
     "output_type": "stream",
     "text": [
      "100\n",
      "99\n",
      "98\n",
      "97\n",
      "96\n",
      "95\n",
      "94\n",
      "93\n",
      "92\n",
      "91\n",
      "90\n",
      "89\n",
      "88\n",
      "87\n",
      "86\n",
      "85\n",
      "84\n",
      "83\n",
      "82\n",
      "81\n",
      "80\n",
      "79\n",
      "78\n",
      "77\n",
      "76\n",
      "75\n",
      "74\n",
      "73\n",
      "72\n",
      "71\n",
      "70\n",
      "69\n",
      "68\n",
      "67\n",
      "66\n",
      "65\n",
      "64\n",
      "63\n",
      "62\n",
      "61\n",
      "60\n",
      "59\n",
      "58\n",
      "57\n",
      "56\n",
      "55\n",
      "54\n",
      "53\n",
      "52\n",
      "51\n",
      "50\n",
      "49\n",
      "48\n",
      "47\n",
      "46\n",
      "45\n",
      "44\n",
      "43\n",
      "42\n",
      "41\n",
      "40\n",
      "39\n",
      "38\n",
      "37\n",
      "36\n",
      "35\n",
      "34\n",
      "33\n",
      "32\n",
      "31\n",
      "30\n",
      "29\n",
      "28\n",
      "27\n",
      "26\n",
      "25\n",
      "24\n",
      "23\n",
      "22\n",
      "21\n",
      "20\n",
      "19\n",
      "18\n",
      "17\n",
      "16\n",
      "15\n",
      "14\n",
      "13\n",
      "12\n",
      "11\n",
      "10\n",
      "9\n",
      "8\n",
      "7\n",
      "6\n",
      "5\n",
      "4\n",
      "3\n",
      "2\n",
      "1\n"
     ]
    }
   ],
   "source": [
    "#print the numbers from 100 to 1\n",
    "\n",
    "i = 100\n",
    "while(i>=1):\n",
    "    print(i)\n",
    "    i-=1"
   ]
  },
  {
   "cell_type": "code",
   "execution_count": 31,
   "id": "9c5e1807",
   "metadata": {},
   "outputs": [
    {
     "name": "stdout",
     "output_type": "stream",
     "text": [
      "Enter a number: 55\n",
      "55\n",
      "110\n",
      "165\n",
      "220\n",
      "275\n",
      "330\n",
      "385\n",
      "440\n",
      "495\n",
      "550\n"
     ]
    }
   ],
   "source": [
    "#print the multiplication table of a number n\n",
    "\n",
    "number = int(input(\"Enter a number: \"))\n",
    "i = 1\n",
    "while(i <= 10):\n",
    "    print(number * i)\n",
    "    i+=1"
   ]
  },
  {
   "cell_type": "code",
   "execution_count": 32,
   "id": "7291e6eb",
   "metadata": {},
   "outputs": [
    {
     "name": "stdout",
     "output_type": "stream",
     "text": [
      "1\n",
      "4\n",
      "9\n",
      "16\n",
      "25\n",
      "36\n",
      "49\n",
      "64\n",
      "81\n",
      "100\n"
     ]
    }
   ],
   "source": [
    "#Print the elements of the following list using a loop\n",
    "#[1,4,9,16,25,36,49,64,81,100]\n",
    "\n",
    "i = 1\n",
    "while(i<=10):\n",
    "    print(i*i)\n",
    "    i+=1"
   ]
  },
  {
   "cell_type": "code",
   "execution_count": 33,
   "id": "117105df",
   "metadata": {},
   "outputs": [
    {
     "name": "stdout",
     "output_type": "stream",
     "text": [
      "found at index 5\n"
     ]
    }
   ],
   "source": [
    "#search for a number x in this tuple using loop:\n",
    "##[1,4,9,16,25,49,64,81,100]\n",
    "\n",
    "nums = (1,4,9,16,25,36,49,64,81,100)\n",
    "x = 36\n",
    "i=0\n",
    "while(i<len(nums)):\n",
    "    if(nums[i]==x):\n",
    "        print(\"found at index\",i)\n",
    "    i+=1"
   ]
  },
  {
   "cell_type": "code",
   "execution_count": null,
   "id": "c7206f7e",
   "metadata": {},
   "outputs": [],
   "source": [
    "#Break -> used to terminate the loop when encountered\n",
    "#continue -> terminates execution in the current iteration and \n",
    "#continues execution of the loop with the next iteration"
   ]
  },
  {
   "cell_type": "code",
   "execution_count": 34,
   "id": "db8e7900",
   "metadata": {},
   "outputs": [
    {
     "name": "stdout",
     "output_type": "stream",
     "text": [
      "1\n",
      "2\n",
      "3\n",
      "end of the loop\n"
     ]
    }
   ],
   "source": [
    "i = 1\n",
    "while i<=5:\n",
    "    print(i)\n",
    "    if(i==3):\n",
    "        break\n",
    "    i+=1\n",
    "print(\"end of the loop\")"
   ]
  },
  {
   "cell_type": "code",
   "execution_count": 35,
   "id": "e9dd1da4",
   "metadata": {},
   "outputs": [
    {
     "name": "stdout",
     "output_type": "stream",
     "text": [
      "finding...\n",
      "finding...\n",
      "finding...\n",
      "finding...\n",
      "finding...\n",
      "found at index 5\n",
      "end of the loop\n"
     ]
    }
   ],
   "source": [
    "nums = (1,4,9,16,25,36,49,64,81,100)\n",
    "x = 36\n",
    "i=0\n",
    "while(i<len(nums)):\n",
    "    if(nums[i]==x):\n",
    "        print(\"found at index\",i)\n",
    "        break\n",
    "    else:\n",
    "        print(\"finding...\")\n",
    "    i+=1\n",
    "print(\"end of the loop\")"
   ]
  },
  {
   "cell_type": "code",
   "execution_count": 36,
   "id": "ce26aa72",
   "metadata": {},
   "outputs": [
    {
     "name": "stdout",
     "output_type": "stream",
     "text": [
      "0\n",
      "1\n",
      "2\n",
      "4\n",
      "5\n"
     ]
    }
   ],
   "source": [
    "i=0 \n",
    "while i<=5:\n",
    "    if(i==3):\n",
    "        i+=1\n",
    "        continue #skips the next steps if i==3\n",
    "    print(i)\n",
    "    i+=1"
   ]
  },
  {
   "cell_type": "code",
   "execution_count": 37,
   "id": "d0e19653",
   "metadata": {},
   "outputs": [
    {
     "name": "stdout",
     "output_type": "stream",
     "text": [
      "1\n",
      "2\n",
      "3\n",
      "4\n",
      "5\n",
      "6\n",
      "7\n",
      "8\n",
      "9\n",
      "10\n"
     ]
    }
   ],
   "source": [
    "nums = [1,2,3,4,5,6,7,8,9,10]\n",
    "for val in nums:\n",
    "    print(val)"
   ]
  },
  {
   "cell_type": "code",
   "execution_count": 38,
   "id": "3253e462",
   "metadata": {},
   "outputs": [
    {
     "name": "stdout",
     "output_type": "stream",
     "text": [
      "3\n",
      "6\n",
      "1\n",
      "2\n",
      "5\n",
      "6\n"
     ]
    }
   ],
   "source": [
    "tup = (3,6,1,2,5,6)\n",
    "for num in tup:\n",
    "    print(num)"
   ]
  },
  {
   "cell_type": "code",
   "execution_count": 39,
   "id": "710313ca",
   "metadata": {},
   "outputs": [
    {
     "name": "stdout",
     "output_type": "stream",
     "text": [
      "I\n",
      "s\n",
      "h\n",
      "i\n",
      "t\n",
      "a\n",
      " \n",
      "H\n",
      "a\n",
      "r\n",
      "i\n",
      "s\n",
      "h\n",
      " \n",
      "K\n",
      "a\n",
      "d\n",
      "a\n",
      "m\n"
     ]
    }
   ],
   "source": [
    "str = \"Ishita Harish Kadam\"\n",
    "for char in str:\n",
    "    print(char)"
   ]
  },
  {
   "cell_type": "code",
   "execution_count": 40,
   "id": "095871e7",
   "metadata": {},
   "outputs": [
    {
     "name": "stdout",
     "output_type": "stream",
     "text": [
      "1\n",
      "4\n",
      "9\n",
      "16\n",
      "25\n",
      "36\n",
      "49\n",
      "64\n",
      "81\n",
      "100\n"
     ]
    }
   ],
   "source": [
    "#print the elements of the following list using a for loop:\n",
    "#(1,4,9,16,25,36,49,64,81,100)\n",
    "\n",
    "nums = [1,4,9,16,25,36,49,64,81,100]\n",
    "for num in nums:\n",
    "    print(num)\n"
   ]
  },
  {
   "cell_type": "code",
   "execution_count": 43,
   "id": "0e361592",
   "metadata": {},
   "outputs": [
    {
     "name": "stdout",
     "output_type": "stream",
     "text": [
      "found at index 4\n"
     ]
    }
   ],
   "source": [
    "#search for a number x in this tuple using a for loop\n",
    "#(1,4,9,16,25,36,49,64,81,100)\n",
    "\n",
    "nums = (1,4,9,16,25,36,49,64,81,100)\n",
    "i = 0\n",
    "x = 25\n",
    "for num in nums:\n",
    "    if(num==x):\n",
    "        print(\"found at index\",i)\n",
    "    i+=1\n",
    "        "
   ]
  },
  {
   "cell_type": "code",
   "execution_count": 47,
   "id": "065f3a0f",
   "metadata": {},
   "outputs": [
    {
     "name": "stdout",
     "output_type": "stream",
     "text": [
      "0\n",
      "1\n",
      "2\n",
      "3\n",
      "4\n",
      "1\n",
      "2\n",
      "3\n",
      "4\n",
      "1\n",
      "3\n"
     ]
    }
   ],
   "source": [
    "#Range-> range functions returns a sequence of numbers, starting from 0 by default\n",
    "# and increments by 1(by default), and stops before a specified number\n",
    "\n",
    "for el in range(5):\n",
    "    print(el)\n",
    "#prints 0 1 2 3 4\n",
    "\n",
    "for el in range(1,5):\n",
    "    print(el)\n",
    "#prints 1 2 3 4\n",
    "\n",
    "for el in range(1,5,2):\n",
    "    print(el)\n",
    "#prints 1 3"
   ]
  },
  {
   "cell_type": "code",
   "execution_count": 49,
   "id": "5db04b11",
   "metadata": {},
   "outputs": [
    {
     "name": "stdout",
     "output_type": "stream",
     "text": [
      "1\n",
      "2\n",
      "3\n",
      "4\n",
      "5\n",
      "6\n",
      "7\n",
      "8\n",
      "9\n",
      "10\n",
      "11\n",
      "12\n",
      "13\n",
      "14\n",
      "15\n",
      "16\n",
      "17\n",
      "18\n",
      "19\n",
      "20\n",
      "21\n",
      "22\n",
      "23\n",
      "24\n",
      "25\n",
      "26\n",
      "27\n",
      "28\n",
      "29\n",
      "30\n",
      "31\n",
      "32\n",
      "33\n",
      "34\n",
      "35\n",
      "36\n",
      "37\n",
      "38\n",
      "39\n",
      "40\n",
      "41\n",
      "42\n",
      "43\n",
      "44\n",
      "45\n",
      "46\n",
      "47\n",
      "48\n",
      "49\n",
      "50\n",
      "51\n",
      "52\n",
      "53\n",
      "54\n",
      "55\n",
      "56\n",
      "57\n",
      "58\n",
      "59\n",
      "60\n",
      "61\n",
      "62\n",
      "63\n",
      "64\n",
      "65\n",
      "66\n",
      "67\n",
      "68\n",
      "69\n",
      "70\n",
      "71\n",
      "72\n",
      "73\n",
      "74\n",
      "75\n",
      "76\n",
      "77\n",
      "78\n",
      "79\n",
      "80\n",
      "81\n",
      "82\n",
      "83\n",
      "84\n",
      "85\n",
      "86\n",
      "87\n",
      "88\n",
      "89\n",
      "90\n",
      "91\n",
      "92\n",
      "93\n",
      "94\n",
      "95\n",
      "96\n",
      "97\n",
      "98\n",
      "99\n",
      "100\n"
     ]
    }
   ],
   "source": [
    "#Print numbers from 1 to 100\n",
    "for el in range(1,101):\n",
    "    print(el)"
   ]
  },
  {
   "cell_type": "code",
   "execution_count": 51,
   "id": "255c6ffb",
   "metadata": {},
   "outputs": [
    {
     "name": "stdout",
     "output_type": "stream",
     "text": [
      "100\n",
      "99\n",
      "98\n",
      "97\n",
      "96\n",
      "95\n",
      "94\n",
      "93\n",
      "92\n",
      "91\n",
      "90\n",
      "89\n",
      "88\n",
      "87\n",
      "86\n",
      "85\n",
      "84\n",
      "83\n",
      "82\n",
      "81\n",
      "80\n",
      "79\n",
      "78\n",
      "77\n",
      "76\n",
      "75\n",
      "74\n",
      "73\n",
      "72\n",
      "71\n",
      "70\n",
      "69\n",
      "68\n",
      "67\n",
      "66\n",
      "65\n",
      "64\n",
      "63\n",
      "62\n",
      "61\n",
      "60\n",
      "59\n",
      "58\n",
      "57\n",
      "56\n",
      "55\n",
      "54\n",
      "53\n",
      "52\n",
      "51\n",
      "50\n",
      "49\n",
      "48\n",
      "47\n",
      "46\n",
      "45\n",
      "44\n",
      "43\n",
      "42\n",
      "41\n",
      "40\n",
      "39\n",
      "38\n",
      "37\n",
      "36\n",
      "35\n",
      "34\n",
      "33\n",
      "32\n",
      "31\n",
      "30\n",
      "29\n",
      "28\n",
      "27\n",
      "26\n",
      "25\n",
      "24\n",
      "23\n",
      "22\n",
      "21\n",
      "20\n",
      "19\n",
      "18\n",
      "17\n",
      "16\n",
      "15\n",
      "14\n",
      "13\n",
      "12\n",
      "11\n",
      "10\n",
      "9\n",
      "8\n",
      "7\n",
      "6\n",
      "5\n",
      "4\n",
      "3\n",
      "2\n",
      "1\n"
     ]
    }
   ],
   "source": [
    "#print numbers from 10 to 1\n",
    "for el in range(10,0,-1):\n",
    "    print(el)"
   ]
  },
  {
   "cell_type": "code",
   "execution_count": 52,
   "id": "8b136d79",
   "metadata": {},
   "outputs": [
    {
     "name": "stdout",
     "output_type": "stream",
     "text": [
      "enter number: 5\n",
      "5\n",
      "10\n",
      "15\n",
      "20\n",
      "25\n",
      "30\n",
      "35\n",
      "40\n",
      "45\n",
      "50\n"
     ]
    }
   ],
   "source": [
    "#print the multiplication table of a number n\n",
    "\n",
    "n = int(input(\"enter number: \"))\n",
    "for i in range(1,11):\n",
    "    print(n*i)"
   ]
  },
  {
   "cell_type": "code",
   "execution_count": 53,
   "id": "d3f42486",
   "metadata": {},
   "outputs": [
    {
     "name": "stdout",
     "output_type": "stream",
     "text": [
      "some usefull work\n"
     ]
    }
   ],
   "source": [
    "#pass statement -> pass is a null statement that does nothing.\n",
    "#it is used as a placeholder for future code\n",
    "\n",
    "for i in range(5):\n",
    "    pass\n",
    "print(\"some usefull work\")"
   ]
  },
  {
   "cell_type": "code",
   "execution_count": 56,
   "id": "a2462c9f",
   "metadata": {},
   "outputs": [
    {
     "name": "stdout",
     "output_type": "stream",
     "text": [
      "Enter number: 5\n",
      "15\n"
     ]
    }
   ],
   "source": [
    "#WAP to find the sum of first n numbers using WHILE loop\n",
    "i=1\n",
    "add = 0\n",
    "n = int(input(\"Enter number: \"))\n",
    "while(i<=n):\n",
    "    add +=i\n",
    "    i+=1\n",
    "print(add)"
   ]
  },
  {
   "cell_type": "code",
   "execution_count": 58,
   "id": "9875381a",
   "metadata": {},
   "outputs": [
    {
     "name": "stdout",
     "output_type": "stream",
     "text": [
      "factorial = 120\n"
     ]
    }
   ],
   "source": [
    "#WAP to find the factorial of first n natural numbers using for loop\n",
    "n=5\n",
    "fact=1\n",
    "for i in range(1,n+1):\n",
    "    fact *= i\n",
    "print(\"factorial =\",fact)"
   ]
  },
  {
   "cell_type": "markdown",
   "id": "1d7bd58f",
   "metadata": {},
   "source": [
    "# Functions and Recursion \n",
    "\n",
    "Block of statements that perform a specific task\n",
    "function definition:\n",
    "def func_name(param1, param2...):\n",
    "    #some work\n",
    "    return val\n",
    "    \n",
    "#function call    \n",
    "func_name(arg1,arg2....)"
   ]
  },
  {
   "cell_type": "code",
   "execution_count": 64,
   "id": "3d2d7492",
   "metadata": {},
   "outputs": [
    {
     "name": "stdout",
     "output_type": "stream",
     "text": [
      "3\n"
     ]
    }
   ],
   "source": [
    "#WAF to print the length of a list.(list is a parameter)\n",
    "\n",
    "list1 = [\"Ishita\", \"Harish\", \"Kadam\"]\n",
    "def length(list):\n",
    "    print(len(list))\n",
    "        \n",
    "length(list1)"
   ]
  },
  {
   "cell_type": "code",
   "execution_count": 65,
   "id": "3772a359",
   "metadata": {},
   "outputs": [
    {
     "name": "stdout",
     "output_type": "stream",
     "text": [
      "Ishita Harish Kadam "
     ]
    }
   ],
   "source": [
    "#WAF to print the elements of a list in a single line (list is the parameter)\n",
    "\n",
    "list1 = [\"Ishita\", \"Harish\", \"Kadam\"]\n",
    "def printlist(list):\n",
    "    for item in list1:\n",
    "        print(item,end=\" \")\n",
    "\n",
    "printlist(list1)\n"
   ]
  },
  {
   "cell_type": "code",
   "execution_count": 70,
   "id": "95fbdf64",
   "metadata": {},
   "outputs": [
    {
     "name": "stdout",
     "output_type": "stream",
     "text": [
      "Enter n: 5\n",
      "120\n"
     ]
    }
   ],
   "source": [
    "#WAF to find the factorial of n(n is the parameter)\n",
    "\n",
    "n = int(input(\"Enter n: \"))\n",
    "def factorial(n):\n",
    "    fact=1\n",
    "    for i in range(1,n+1):\n",
    "        fact *= i\n",
    "    print(fact)   \n",
    "factorial(n)"
   ]
  },
  {
   "cell_type": "code",
   "execution_count": 72,
   "id": "070f65e3",
   "metadata": {},
   "outputs": [
    {
     "name": "stdout",
     "output_type": "stream",
     "text": [
      "Enter amount in USD: 5\n",
      "414.25\n"
     ]
    }
   ],
   "source": [
    "#WAF to convert USD to INR\n",
    "#1 usd = 82.85 rupees\n",
    "\n",
    "usd = int(input(\"Enter amount in USD: \"))\n",
    "def cal_rupee(usd):\n",
    "    rupee = usd * 82.85\n",
    "    print(rupee)\n",
    "    \n",
    "cal_rupee(usd)"
   ]
  },
  {
   "cell_type": "code",
   "execution_count": 74,
   "id": "f8585f46",
   "metadata": {},
   "outputs": [
    {
     "name": "stdout",
     "output_type": "stream",
     "text": [
      "Enter number: 7\n",
      "ODD\n"
     ]
    }
   ],
   "source": [
    "#WAF to print if input number is EVEN or ODD\n",
    "n = int(input(\"Enter number: \"))\n",
    "def even_odd(n):\n",
    "    if(n%2==0):\n",
    "        print(\"EVEN\")\n",
    "    else:\n",
    "        print(\"ODD\")\n",
    "        \n",
    "even_odd(n)"
   ]
  },
  {
   "cell_type": "code",
   "execution_count": 76,
   "id": "a992c77f",
   "metadata": {},
   "outputs": [
    {
     "name": "stdout",
     "output_type": "stream",
     "text": [
      "5\n",
      "5\n",
      "4\n",
      "3\n",
      "2\n",
      "1\n"
     ]
    }
   ],
   "source": [
    "#RECURSION\n",
    "n= int(input())\n",
    "def show(n):\n",
    "    if(n==0): #base case\n",
    "        return\n",
    "    print(n)\n",
    "    show(n-1)\n",
    "show(5)"
   ]
  },
  {
   "cell_type": "code",
   "execution_count": 77,
   "id": "a0512c45",
   "metadata": {},
   "outputs": [
    {
     "name": "stdout",
     "output_type": "stream",
     "text": [
      "Enter number: 5\n",
      "120\n"
     ]
    }
   ],
   "source": [
    "#WAF to print factorial of a number using recursion\n",
    "\n",
    "n = int(input(\"Enter number: \"))\n",
    "def fact(n):\n",
    "    if(n==0 or n==1):\n",
    "        return 1\n",
    "    else:\n",
    "        return n*fact(n-1)\n",
    "    \n",
    "print(fact(n))    "
   ]
  },
  {
   "cell_type": "code",
   "execution_count": 82,
   "id": "43c656f2",
   "metadata": {},
   "outputs": [
    {
     "name": "stdout",
     "output_type": "stream",
     "text": [
      "Enter number: 5\n",
      "15\n"
     ]
    }
   ],
   "source": [
    "#write a recursive function to calculate the sum of first n natural numbers\n",
    "\n",
    "n = int(input(\"Enter number: \"))\n",
    "def sum_of_n(n):\n",
    "    if(n==0):\n",
    "        return 0\n",
    "    return sum_of_n(n-1) + n\n",
    "\n",
    "sum = sum_of_n(n)\n",
    "print(sum)"
   ]
  },
  {
   "cell_type": "code",
   "execution_count": 84,
   "id": "e931f6b3",
   "metadata": {},
   "outputs": [
    {
     "name": "stdout",
     "output_type": "stream",
     "text": [
      "mango\n",
      "apple\n",
      "banana\n",
      "litchi\n"
     ]
    }
   ],
   "source": [
    "#Write a recursive function to print all elements in a list.\n",
    "def print_list(list,idx):\n",
    "    if(idx==len(list)):\n",
    "        return\n",
    "    print(list[idx])\n",
    "    print_list(list,idx+1)\n",
    "    \n",
    "fruits = [\"mango\", \"apple\", \"banana\", \"litchi\"]\n",
    "print_list(fruits,0)"
   ]
  },
  {
   "cell_type": "markdown",
   "id": "3575d55b",
   "metadata": {},
   "source": [
    "# File Input/Output"
   ]
  },
  {
   "cell_type": "code",
   "execution_count": null,
   "id": "ce56904b",
   "metadata": {},
   "outputs": [],
   "source": []
  }
 ],
 "metadata": {
  "kernelspec": {
   "display_name": "Python 3",
   "language": "python",
   "name": "python3"
  },
  "language_info": {
   "codemirror_mode": {
    "name": "ipython",
    "version": 3
   },
   "file_extension": ".py",
   "mimetype": "text/x-python",
   "name": "python",
   "nbconvert_exporter": "python",
   "pygments_lexer": "ipython3",
   "version": "3.8.8"
  }
 },
 "nbformat": 4,
 "nbformat_minor": 5
}
